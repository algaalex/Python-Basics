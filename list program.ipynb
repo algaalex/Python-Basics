{
 "cells": [
  {
   "cell_type": "code",
   "execution_count": 1,
   "id": "d305242e",
   "metadata": {},
   "outputs": [
    {
     "name": "stdout",
     "output_type": "stream",
     "text": [
      "original List: [10, 20, 30, 40, 20, 50, 60, 40]\n",
      "List of unique numbers: [40, 10, 50, 20, 60, 30]\n"
     ]
    }
   ],
   "source": [
    "my_list=[10,20,30,40,20,50,60,40]\n",
    "print(\"original List:\",my_list)\n",
    "my_set=set(my_list)\n",
    "my_new_list=list(my_set)\n",
    "print(\"List of unique numbers:\",my_new_list)"
   ]
  },
  {
   "cell_type": "code",
   "execution_count": 2,
   "id": "b63e0eb2",
   "metadata": {},
   "outputs": [
    {
     "name": "stdout",
     "output_type": "stream",
     "text": [
      "210\n"
     ]
    }
   ],
   "source": [
    "un=(40,10,50,20,60,30)\n",
    "x=sum(un)\n",
    "print(x)"
   ]
  },
  {
   "cell_type": "code",
   "execution_count": 3,
   "id": "d8b2e4f3",
   "metadata": {},
   "outputs": [
    {
     "name": "stdout",
     "output_type": "stream",
     "text": [
      "60\n"
     ]
    }
   ],
   "source": [
    "un=(40,10,50,20,60,30)\n",
    "x=max(un)\n",
    "print(x)"
   ]
  },
  {
   "cell_type": "code",
   "execution_count": 4,
   "id": "66e71bf3",
   "metadata": {},
   "outputs": [
    {
     "name": "stdout",
     "output_type": "stream",
     "text": [
      "10\n"
     ]
    }
   ],
   "source": [
    "un=(40,10,50,20,60,30)\n",
    "x=min(un)\n",
    "print(x)"
   ]
  },
  {
   "cell_type": "code",
   "execution_count": 5,
   "id": "83233f0f",
   "metadata": {},
   "outputs": [
    {
     "name": "stdout",
     "output_type": "stream",
     "text": [
      "list is not empty\n"
     ]
    }
   ],
   "source": [
    "li=[1,2,3,4,5]\n",
    "if not li:\n",
    "    print(\"empty list\")\n",
    "else:\n",
    "    print(\"list is not empty\")"
   ]
  },
  {
   "cell_type": "code",
   "execution_count": 6,
   "id": "34ee3e58",
   "metadata": {},
   "outputs": [
    {
     "name": "stdout",
     "output_type": "stream",
     "text": [
      "[1, 2, 3, 4, 5]\n",
      "[1, 2, 3, 4, 5]\n"
     ]
    }
   ],
   "source": [
    "a=[1,2,3,4,5]\n",
    "b=a.copy()\n",
    "print(a)\n",
    "print(b)"
   ]
  },
  {
   "cell_type": "code",
   "execution_count": 7,
   "id": "9b28ae0c",
   "metadata": {},
   "outputs": [
    {
     "data": {
      "text/plain": [
       "2"
      ]
     },
     "execution_count": 7,
     "metadata": {},
     "output_type": "execute_result"
    }
   ],
   "source": [
    "a=[1,2,3,4,5]\n",
    "a.index(3)"
   ]
  },
  {
   "cell_type": "code",
   "execution_count": 10,
   "id": "c7dff658",
   "metadata": {},
   "outputs": [
    {
     "name": "stdout",
     "output_type": "stream",
     "text": [
      "[1, 2, 3, 'red', 'black']\n"
     ]
    }
   ],
   "source": [
    "l1=[1,2,3]\n",
    "l2=['red','black']\n",
    "x=l1+l2\n",
    "print(x)"
   ]
  },
  {
   "cell_type": "code",
   "execution_count": 1,
   "id": "63908ebb",
   "metadata": {},
   "outputs": [
    {
     "name": "stdout",
     "output_type": "stream",
     "text": [
      "{'bag', 'pen'}\n"
     ]
    }
   ],
   "source": [
    "a=\"pen\",\"pencil\",\"scale\",\"bag\"\n",
    "b=\"box\",\"pen\",\"bag\",\"book\"\n",
    "print(set(a)&set(b))"
   ]
  },
  {
   "cell_type": "code",
   "execution_count": 2,
   "id": "148b68f3",
   "metadata": {},
   "outputs": [
    {
     "name": "stdout",
     "output_type": "stream",
     "text": [
      "[1, 3, 5, 7, 9]\n"
     ]
    }
   ],
   "source": [
    "x=[1,2,3,4,5,6,7,8,9]\n",
    "print(x[::2])"
   ]
  },
  {
   "cell_type": "code",
   "execution_count": 1,
   "id": "96851a3e",
   "metadata": {},
   "outputs": [
    {
     "name": "stdout",
     "output_type": "stream",
     "text": [
      "apple-cherry-banana\n",
      "applecherrybanana\n"
     ]
    }
   ],
   "source": [
    "myset={\"apple\",\"banana\",\"cherry\"}\n",
    "print('-'.join(myset))\n",
    "print(''.join(myset))"
   ]
  },
  {
   "cell_type": "code",
   "execution_count": 2,
   "id": "702233e3",
   "metadata": {},
   "outputs": [
    {
     "name": "stdout",
     "output_type": "stream",
     "text": [
      "['one', 'two', 'three']\n"
     ]
    }
   ],
   "source": [
    "a=\"one,two,three\"\n",
    "x=a.split(',')\n",
    "print(x)"
   ]
  },
  {
   "cell_type": "code",
   "execution_count": 3,
   "id": "6280ab02",
   "metadata": {},
   "outputs": [
    {
     "name": "stdout",
     "output_type": "stream",
     "text": [
      "[10, 20, 30, 40, 50, 60]\n"
     ]
    }
   ],
   "source": [
    "a=[10,20,30,40]\n",
    "b=[50,60]\n",
    "a.extend(b)\n",
    "print(a)"
   ]
  },
  {
   "cell_type": "code",
   "execution_count": null,
   "id": "eb85790d",
   "metadata": {},
   "outputs": [],
   "source": []
  }
 ],
 "metadata": {
  "kernelspec": {
   "display_name": "Python 3 (ipykernel)",
   "language": "python",
   "name": "python3"
  },
  "language_info": {
   "codemirror_mode": {
    "name": "ipython",
    "version": 3
   },
   "file_extension": ".py",
   "mimetype": "text/x-python",
   "name": "python",
   "nbconvert_exporter": "python",
   "pygments_lexer": "ipython3",
   "version": "3.9.13"
  }
 },
 "nbformat": 4,
 "nbformat_minor": 5
}
