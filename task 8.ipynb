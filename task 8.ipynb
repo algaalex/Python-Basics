{
 "cells": [
  {
   "cell_type": "code",
   "execution_count": 1,
   "id": "ac30d28b",
   "metadata": {},
   "outputs": [
    {
     "name": "stdout",
     "output_type": "stream",
     "text": [
      "hello\n"
     ]
    }
   ],
   "source": [
    "def example():\n",
    "    print(\"hello\")\n",
    "example()    "
   ]
  },
  {
   "cell_type": "code",
   "execution_count": 2,
   "id": "0c8f4328",
   "metadata": {},
   "outputs": [
    {
     "name": "stdout",
     "output_type": "stream",
     "text": [
      "Alga 22 Good Morning\n"
     ]
    }
   ],
   "source": [
    "def greet(name,age,wish):\n",
    "    print(name,age,wish)\n",
    "greet('Alga',22,'Good Morning')  "
   ]
  },
  {
   "cell_type": "code",
   "execution_count": 3,
   "id": "7257625f",
   "metadata": {},
   "outputs": [
    {
     "name": "stdout",
     "output_type": "stream",
     "text": [
      "10\n"
     ]
    }
   ],
   "source": [
    "def summation(a,b):\n",
    "    return(a+b)\n",
    "print(summation(5,5))"
   ]
  },
  {
   "cell_type": "code",
   "execution_count": 4,
   "id": "037855da",
   "metadata": {},
   "outputs": [
    {
     "name": "stdout",
     "output_type": "stream",
     "text": [
      "enter your value6\n",
      "enter your value8\n",
      "14\n"
     ]
    }
   ],
   "source": [
    "def example(a,b):\n",
    "    print(a+b)\n",
    "a=int(input(\"enter your value\"))\n",
    "b=int(input(\"enter your value\"))\n",
    "example(a,b)"
   ]
  },
  {
   "cell_type": "code",
   "execution_count": 8,
   "id": "57d4d0fe",
   "metadata": {},
   "outputs": [
    {
     "name": "stdout",
     "output_type": "stream",
     "text": [
      "Alga\n",
      "Good Morning\n"
     ]
    }
   ],
   "source": [
    "def wish(name,greet=\"Good Morning\"):\n",
    "    print(name)\n",
    "    print(greet) \n",
    "wish('Alga')    \n",
    "    "
   ]
  },
  {
   "cell_type": "code",
   "execution_count": 9,
   "id": "760dcf63",
   "metadata": {},
   "outputs": [
    {
     "name": "stdout",
     "output_type": "stream",
     "text": [
      "Alga\n",
      "Good Noon\n"
     ]
    }
   ],
   "source": [
    "wish('Alga','Good Noon')"
   ]
  },
  {
   "cell_type": "code",
   "execution_count": 10,
   "id": "1ba1b9ca",
   "metadata": {},
   "outputs": [
    {
     "name": "stdout",
     "output_type": "stream",
     "text": [
      "10\n"
     ]
    }
   ],
   "source": [
    "a=lambda x:x*2\n",
    "print(a(5))"
   ]
  },
  {
   "cell_type": "code",
   "execution_count": 11,
   "id": "2ac17733",
   "metadata": {},
   "outputs": [
    {
     "name": "stdout",
     "output_type": "stream",
     "text": [
      "[2, 4, 6, 8]\n"
     ]
    }
   ],
   "source": [
    "a=[1,2,3,4,5,6,7,8]\n",
    "li=list(filter(lambda x:x%2==0,a))\n",
    "print(li)"
   ]
  },
  {
   "cell_type": "code",
   "execution_count": 20,
   "id": "a8191506",
   "metadata": {},
   "outputs": [
    {
     "name": "stdout",
     "output_type": "stream",
     "text": [
      "[1, 4, 9, 16, 25, 36, 49, 64]\n"
     ]
    }
   ],
   "source": [
    "a=[1,2,3,4,5,6,7,8]\n",
    "li=list(map(lambda x:x**2,a))\n",
    "print(li)"
   ]
  },
  {
   "cell_type": "code",
   "execution_count": 21,
   "id": "e7dd521e",
   "metadata": {},
   "outputs": [
    {
     "name": "stdout",
     "output_type": "stream",
     "text": [
      "Hai\n"
     ]
    }
   ],
   "source": [
    "def example():\n",
    "    print(\"Hai\")\n",
    "example()    "
   ]
  },
  {
   "cell_type": "code",
   "execution_count": 22,
   "id": "d836b539",
   "metadata": {},
   "outputs": [
    {
     "name": "stdout",
     "output_type": "stream",
     "text": [
      "Alga 22 kozhikode\n"
     ]
    }
   ],
   "source": [
    "def place(name,age,location):\n",
    "    print(name,age,location)\n",
    "place('Alga',22,'kozhikode')\n"
   ]
  },
  {
   "cell_type": "code",
   "execution_count": 23,
   "id": "ef356056",
   "metadata": {},
   "outputs": [
    {
     "name": "stdout",
     "output_type": "stream",
     "text": [
      "16\n"
     ]
    }
   ],
   "source": [
    "def summation(a,b):\n",
    "    return(a+b)\n",
    "print(summation(8,8))"
   ]
  },
  {
   "cell_type": "code",
   "execution_count": 24,
   "id": "aaa35855",
   "metadata": {},
   "outputs": [
    {
     "name": "stdout",
     "output_type": "stream",
     "text": [
      "enter your value3\n",
      "enter your value5\n",
      "8\n"
     ]
    }
   ],
   "source": [
    "def example(a,b):\n",
    "    print(a+b)\n",
    "a=int(input(\"enter your value\"))\n",
    "b=int(input(\"enter your value\"))\n",
    "example(a,b)\n",
    "    \n",
    "    "
   ]
  },
  {
   "cell_type": "code",
   "execution_count": 27,
   "id": "e46528d0",
   "metadata": {},
   "outputs": [
    {
     "name": "stdout",
     "output_type": "stream",
     "text": [
      "Alga\n",
      "kozhikode\n",
      "Alga\n",
      "kannur\n"
     ]
    }
   ],
   "source": [
    "def location(name,place=\"kozhikode\"):\n",
    "    print(name)\n",
    "    print(place)\n",
    "location('Alga')\n",
    "location('Alga','kannur')"
   ]
  },
  {
   "cell_type": "code",
   "execution_count": 29,
   "id": "14cb6a01",
   "metadata": {},
   "outputs": [
    {
     "name": "stdout",
     "output_type": "stream",
     "text": [
      "16\n"
     ]
    }
   ],
   "source": [
    "a=lambda x:x*4\n",
    "print(a(4))"
   ]
  },
  {
   "cell_type": "code",
   "execution_count": 31,
   "id": "d1175ba5",
   "metadata": {},
   "outputs": [
    {
     "name": "stdout",
     "output_type": "stream",
     "text": [
      "[20, 40, 60, 80]\n"
     ]
    }
   ],
   "source": [
    "a=[10,20,30,40,50,60,70,80]\n",
    "li=list(filter(lambda x:x%20==0,a))\n",
    "print(li)"
   ]
  },
  {
   "cell_type": "code",
   "execution_count": 2,
   "id": "b0a5efe8",
   "metadata": {},
   "outputs": [
    {
     "name": "stdout",
     "output_type": "stream",
     "text": [
      "[16, 25, 36, 49, 64, 81]\n"
     ]
    }
   ],
   "source": [
    "a=[4,5,6,7,8,9]\n",
    "li=list(map(lambda x:x**2,a))\n",
    "print(li)"
   ]
  },
  {
   "cell_type": "code",
   "execution_count": null,
   "id": "6965ff68",
   "metadata": {},
   "outputs": [],
   "source": []
  }
 ],
 "metadata": {
  "kernelspec": {
   "display_name": "Python 3 (ipykernel)",
   "language": "python",
   "name": "python3"
  },
  "language_info": {
   "codemirror_mode": {
    "name": "ipython",
    "version": 3
   },
   "file_extension": ".py",
   "mimetype": "text/x-python",
   "name": "python",
   "nbconvert_exporter": "python",
   "pygments_lexer": "ipython3",
   "version": "3.9.13"
  }
 },
 "nbformat": 4,
 "nbformat_minor": 5
}
