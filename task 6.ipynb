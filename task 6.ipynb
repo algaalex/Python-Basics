{
 "cells": [
  {
   "cell_type": "code",
   "execution_count": 8,
   "id": "c4febc06",
   "metadata": {},
   "outputs": [
    {
     "name": "stdout",
     "output_type": "stream",
     "text": [
      "display multiplication table of?8\n",
      "12 x 1 = 12\n",
      "12 x 2 = 24\n",
      "12 x 3 = 36\n",
      "12 x 4 = 48\n",
      "12 x 5 = 60\n",
      "12 x 6 = 72\n",
      "12 x 7 = 84\n",
      "12 x 8 = 96\n",
      "12 x 9 = 108\n",
      "12 x 10 = 120\n"
     ]
    }
   ],
   "source": [
    "num=12\n",
    "num-int(input(\"display multiplication table of?\"))\n",
    "for i in range(1,11):\n",
    "    print(num, 'x',i,'=', num*i)"
   ]
  },
  {
   "cell_type": "code",
   "execution_count": 11,
   "id": "9d50e28f",
   "metadata": {},
   "outputs": [
    {
     "name": "stdout",
     "output_type": "stream",
     "text": [
      "Answer = 9\n"
     ]
    }
   ],
   "source": [
    "b = 3\n",
    "e = 2\n",
    "r = 1\n",
    "for e in range(e, 0, -1):\n",
    "    r*=b\n",
    "print(\"Answer = \" + str(r))"
   ]
  },
  {
   "cell_type": "code",
   "execution_count": 12,
   "id": "9c503e8d",
   "metadata": {},
   "outputs": [
    {
     "name": "stdout",
     "output_type": "stream",
     "text": [
      "0 1 1 2 3 5 8 13 21 34 "
     ]
    }
   ],
   "source": [
    "def fibonacci(number):\n",
    "    a = 0\n",
    "    b = 1\n",
    "    print(a,end = ' ')\n",
    "    print(b, end = ' ')\n",
    "    for num in range( 2 , number):\n",
    "        c = a + b\n",
    "        a = b\n",
    "        b = c\n",
    "        print(c, end = \" \")\n",
    "fibonacci(10)"
   ]
  },
  {
   "cell_type": "code",
   "execution_count": 13,
   "id": "292ba634",
   "metadata": {},
   "outputs": [
    {
     "name": "stdout",
     "output_type": "stream",
     "text": [
      "Enter the Radius of Circle: \n",
      "6\n",
      "\n",
      "Area =  339.12\n"
     ]
    }
   ],
   "source": [
    "print(\"Enter the Radius of Circle: \")\n",
    "r = float(input())\n",
    "a = 3*3.14*r*r\n",
    "print(\"\\nArea = \", a)"
   ]
  },
  {
   "cell_type": "code",
   "execution_count": 16,
   "id": "a5c2e913",
   "metadata": {},
   "outputs": [
    {
     "name": "stdout",
     "output_type": "stream",
     "text": [
      "Volume of the cube:  1000\n"
     ]
    }
   ],
   "source": [
    "def volume(cube_edge):\n",
    "   cube_volume = (cube_edge)*(cube_edge)*(cube_edge)\n",
    "   print(\"Volume of the cube: \", str(cube_volume))\n",
    "volume(10)"
   ]
  },
  {
   "cell_type": "code",
   "execution_count": 2,
   "id": "6e59c3c5",
   "metadata": {},
   "outputs": [
    {
     "name": "stdout",
     "output_type": "stream",
     "text": [
      "Enter Length of Rectangle: \n",
      "8\n",
      "Enter Breadth of Rectangle: \n",
      "10\n",
      "Area =  80.0\n"
     ]
    }
   ],
   "source": [
    "print(\"Enter Length of Rectangle: \")\n",
    "len = float(input())\n",
    "print(\"Enter Breadth of Rectangle: \")\n",
    "bre= float(input())\n",
    "a = len*bre\n",
    "print(\"Area = \", a)"
   ]
  },
  {
   "cell_type": "code",
   "execution_count": 7,
   "id": "125a75c6",
   "metadata": {},
   "outputs": [
    {
     "name": "stdout",
     "output_type": "stream",
     "text": [
      "144\n"
     ]
    }
   ],
   "source": [
    "def Areaofsquare(side):\n",
    "    Area = side*side \n",
    "    return Area\n",
    "side = 12\n",
    "print(Areaofsquare(side))"
   ]
  },
  {
   "cell_type": "code",
   "execution_count": 11,
   "id": "e106bc60",
   "metadata": {},
   "outputs": [
    {
     "name": "stdout",
     "output_type": "stream",
     "text": [
      "Enter text: to illustrate\n",
      "o\n",
      "i\n",
      "u\n",
      "a\n",
      "e\n"
     ]
    }
   ],
   "source": [
    "t= input('Enter text: ')\n",
    "for char in t:\n",
    "    if char.lower() in 'aeiou':\n",
    "        print(char)  "
   ]
  },
  {
   "cell_type": "code",
   "execution_count": null,
   "id": "2ba6602c",
   "metadata": {},
   "outputs": [],
   "source": []
  }
 ],
 "metadata": {
  "kernelspec": {
   "display_name": "Python 3 (ipykernel)",
   "language": "python",
   "name": "python3"
  },
  "language_info": {
   "codemirror_mode": {
    "name": "ipython",
    "version": 3
   },
   "file_extension": ".py",
   "mimetype": "text/x-python",
   "name": "python",
   "nbconvert_exporter": "python",
   "pygments_lexer": "ipython3",
   "version": "3.9.13"
  }
 },
 "nbformat": 4,
 "nbformat_minor": 5
}
