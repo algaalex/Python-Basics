{
 "cells": [
  {
   "cell_type": "code",
   "execution_count": 5,
   "id": "a16b3c62",
   "metadata": {},
   "outputs": [
    {
     "name": "stdout",
     "output_type": "stream",
     "text": [
      "Alga\n",
      "\n",
      "Alga\n",
      "9000\n"
     ]
    }
   ],
   "source": [
    "def showemployee(name,salary=''):\n",
    "    print(name)\n",
    "    print(salary)\n",
    "showemployee('Alga')\n",
    "showemployee('Alga',9000)"
   ]
  },
  {
   "cell_type": "code",
   "execution_count": null,
   "id": "13bf32c0",
   "metadata": {},
   "outputs": [],
   "source": []
  }
 ],
 "metadata": {
  "kernelspec": {
   "display_name": "Python 3 (ipykernel)",
   "language": "python",
   "name": "python3"
  },
  "language_info": {
   "codemirror_mode": {
    "name": "ipython",
    "version": 3
   },
   "file_extension": ".py",
   "mimetype": "text/x-python",
   "name": "python",
   "nbconvert_exporter": "python",
   "pygments_lexer": "ipython3",
   "version": "3.9.13"
  }
 },
 "nbformat": 4,
 "nbformat_minor": 5
}
