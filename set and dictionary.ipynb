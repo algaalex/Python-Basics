{
 "cells": [
  {
   "cell_type": "code",
   "execution_count": 1,
   "id": "d570a207",
   "metadata": {},
   "outputs": [
    {
     "name": "stdout",
     "output_type": "stream",
     "text": [
      "{1, 2, 3, 4, 'hello', 'hai'}\n"
     ]
    }
   ],
   "source": [
    "a={1,2,3,4,3,1,'hai','hello'}\n",
    "print(a)"
   ]
  },
  {
   "cell_type": "code",
   "execution_count": 5,
   "id": "b4f91561",
   "metadata": {},
   "outputs": [
    {
     "name": "stdout",
     "output_type": "stream",
     "text": [
      "{'cherry', 'banana', 'mango', 'apple'}\n"
     ]
    }
   ],
   "source": [
    "set={\"apple\",\"banana\",\"cherry\"}\n",
    "set.add(\"mango\")\n",
    "print(set)"
   ]
  },
  {
   "cell_type": "code",
   "execution_count": 1,
   "id": "9cc66d3b",
   "metadata": {},
   "outputs": [
    {
     "name": "stdout",
     "output_type": "stream",
     "text": [
      "{'mango', 'cherry', 'banana'}\n"
     ]
    }
   ],
   "source": [
    "set={\"cherry\",\"banana\",\"mango\",\"apple\"}\n",
    "set.remove(\"apple\")\n",
    "print(set)"
   ]
  },
  {
   "cell_type": "code",
   "execution_count": 5,
   "id": "f5e75331",
   "metadata": {},
   "outputs": [
    {
     "name": "stdout",
     "output_type": "stream",
     "text": [
      "{1, 2, 3, 4}\n",
      "{1, 2, 3, 4}\n"
     ]
    }
   ],
   "source": [
    "a={1,2,3,4}\n",
    "b=a.copy()\n",
    "print(a)\n",
    "print(b)"
   ]
  },
  {
   "cell_type": "code",
   "execution_count": 8,
   "id": "14ec44ae",
   "metadata": {},
   "outputs": [
    {
     "name": "stdout",
     "output_type": "stream",
     "text": [
      "set()\n"
     ]
    }
   ],
   "source": [
    "a={1,2,3,4,'hai','hello'}\n",
    "a.clear()\n",
    "print(a)"
   ]
  },
  {
   "cell_type": "code",
   "execution_count": 14,
   "id": "192eb863",
   "metadata": {},
   "outputs": [
    {
     "name": "stdout",
     "output_type": "stream",
     "text": [
      "10\n"
     ]
    }
   ],
   "source": [
    "a={1,2,3,4,5,6,7,8,9,10}\n",
    "length=len(a)\n",
    "print(length)"
   ]
  },
  {
   "cell_type": "code",
   "execution_count": 14,
   "id": "be2c5891",
   "metadata": {},
   "outputs": [
    {
     "name": "stdout",
     "output_type": "stream",
     "text": [
      "{'1': 'a', '2': 'b', '3': 'c', 4: 'd'}\n"
     ]
    }
   ],
   "source": [
    "sq={'1':'a','2':'b','3':'c'}\n",
    "sq[4]='d'\n",
    "print(sq)"
   ]
  },
  {
   "cell_type": "code",
   "execution_count": 9,
   "id": "780f9cc2",
   "metadata": {},
   "outputs": [
    {
     "name": "stdout",
     "output_type": "stream",
     "text": [
      "intersection of a and b: {9, 2, 7}\n",
      "union of a and b: {0, 1, 2, 3, 4, 5, 6, 7, 9}\n",
      "difference of and b: {1, 3, 5}\n",
      "symmetric difference of a and b: {0, 1, 3, 4, 5, 6}\n"
     ]
    }
   ],
   "source": [
    "a={1,2,3,5,7,9}\n",
    "b={2,4,6,7,9,0}\n",
    "print('intersection of a and b:',a&b)\n",
    "print('union of a and b:',a|b)\n",
    "print('difference of and b:',a-b)\n",
    "print('symmetric difference of a and b:',a^b)"
   ]
  },
  {
   "cell_type": "code",
   "execution_count": 10,
   "id": "cab96888",
   "metadata": {},
   "outputs": [
    {
     "name": "stdout",
     "output_type": "stream",
     "text": [
      "True\n"
     ]
    }
   ],
   "source": [
    "a={2,3,4,5}\n",
    "b={2,3,4,5,6,7,8}\n",
    "print(a.issubset(b))"
   ]
  },
  {
   "cell_type": "code",
   "execution_count": 11,
   "id": "cc727bff",
   "metadata": {},
   "outputs": [
    {
     "name": "stdout",
     "output_type": "stream",
     "text": [
      "{'name': 'helga', 'place': 'calicut', 'age': '24', 'gender': 'female'}\n"
     ]
    }
   ],
   "source": [
    "a={\"name\":\"helga\",\"place\":\"calicut\",\"age\":\"24\"}\n",
    "a[\"gender\"]=\"female\"\n",
    "print(a)"
   ]
  },
  {
   "cell_type": "code",
   "execution_count": 19,
   "id": "4d6df4f0",
   "metadata": {},
   "outputs": [
    {
     "name": "stdout",
     "output_type": "stream",
     "text": [
      "340\n"
     ]
    }
   ],
   "source": [
    "marks={'a':100,'b':90,'c':80,'d':70}\n",
    "print(sum(marks.values()))"
   ]
  },
  {
   "cell_type": "code",
   "execution_count": 4,
   "id": "ee82d400",
   "metadata": {},
   "outputs": [
    {
     "name": "stdout",
     "output_type": "stream",
     "text": [
      "120\n"
     ]
    }
   ],
   "source": [
    "d={\"v1\":1,\"v2\":2,\"v3\":3,\"v4\":4,\"v5\":5}\n",
    "a=1\n",
    "for i in d:\n",
    "    a=a*d[i]\n",
    "print(a)    "
   ]
  },
  {
   "cell_type": "code",
   "execution_count": 43,
   "id": "2a4240d1",
   "metadata": {
    "scrolled": true
   },
   "outputs": [
    {
     "name": "stdout",
     "output_type": "stream",
     "text": [
      "{1: 'a', 2: 'b', 3: 'c'}\n"
     ]
    }
   ],
   "source": [
    "dict={1:'a',2:'b',3:'c'}\n",
    "if 'a' in dict:\n",
    "      dict.pop[1]\n",
    "print(dict)"
   ]
  },
  {
   "cell_type": "code",
   "execution_count": 2,
   "id": "f045f566",
   "metadata": {},
   "outputs": [
    {
     "name": "stdout",
     "output_type": "stream",
     "text": [
      "The Total items in this set=\n",
      "502040106030The Total items in this set=\n",
      "Tylra Goiuetw"
     ]
    }
   ],
   "source": [
    "set1={10, 20, 30, 40, 50, 60}\n",
    "print(\"The Total items in this set=\")\n",
    "for val in set1:\n",
    "    print(val,end='')\n",
    "set2=set(\"Tutorial Gateway\")\n",
    "print(\"The Total items in this set=\")\n",
    "for char in set2:\n",
    "    print(char,end='')"
   ]
  },
  {
   "cell_type": "code",
   "execution_count": 7,
   "id": "0eb676f2",
   "metadata": {},
   "outputs": [
    {
     "name": "stdout",
     "output_type": "stream",
     "text": [
      "dictionary: {'b': 'Sam', 'c': 'Anu'}\n"
     ]
    }
   ],
   "source": [
    "dict={'A':\"john\",'b':\"Sam\",'c':\"Anu\"}\n",
    "dict.pop('A')\n",
    "print(\"dictionary:\",dict)\n"
   ]
  },
  {
   "cell_type": "code",
   "execution_count": null,
   "id": "ddc642d6",
   "metadata": {},
   "outputs": [],
   "source": []
  }
 ],
 "metadata": {
  "kernelspec": {
   "display_name": "Python 3 (ipykernel)",
   "language": "python",
   "name": "python3"
  },
  "language_info": {
   "codemirror_mode": {
    "name": "ipython",
    "version": 3
   },
   "file_extension": ".py",
   "mimetype": "text/x-python",
   "name": "python",
   "nbconvert_exporter": "python",
   "pygments_lexer": "ipython3",
   "version": "3.9.13"
  }
 },
 "nbformat": 4,
 "nbformat_minor": 5
}
