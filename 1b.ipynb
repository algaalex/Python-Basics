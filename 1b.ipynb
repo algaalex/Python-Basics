{
 "cells": [
  {
   "cell_type": "code",
   "execution_count": 1,
   "id": "fd39ed32",
   "metadata": {},
   "outputs": [
    {
     "name": "stdout",
     "output_type": "stream",
     "text": [
      "54 degree Celsius is equal to 129.2 degree Fahrenheit.\n"
     ]
    }
   ],
   "source": [
    "celsius = 54\n",
    "fahrenheit = (celsius * 1.8) + 32\n",
    "print(str(celsius )+ \" degree Celsius is equal to \" + str(fahrenheit )+ \" degree Fahrenheit.\")"
   ]
  },
  {
   "cell_type": "code",
   "execution_count": 2,
   "id": "843929a1",
   "metadata": {},
   "outputs": [
    {
     "name": "stdout",
     "output_type": "stream",
     "text": [
      "********\n",
      " *******\n",
      "  ******\n",
      "   *****\n",
      "    ****\n",
      "     ***\n",
      "      **\n",
      "       *\n"
     ]
    }
   ],
   "source": [
    "n=8\n",
    "for i in range (n, 0, -1):\n",
    "    print((n-i) * ' ' + i * '*')"
   ]
  },
  {
   "cell_type": "code",
   "execution_count": null,
   "id": "e9f5bb0b",
   "metadata": {},
   "outputs": [],
   "source": []
  },
  {
   "cell_type": "code",
   "execution_count": 3,
   "id": "0f8480ff",
   "metadata": {},
   "outputs": [
    {
     "name": "stdout",
     "output_type": "stream",
     "text": [
      "The area of the triangle is 14.70\n"
     ]
    }
   ],
   "source": [
    "a = 5\n",
    "b = 6\n",
    "c = 7\n",
    "s = (a + b + c) / 2\n",
    "area = (s*(s-a)*(s-b)*(s-c)) ** 0.5\n",
    "print('The area of the triangle is %0.2f' %area)"
   ]
  },
  {
   "cell_type": "code",
   "execution_count": 4,
   "id": "8abe91b5",
   "metadata": {},
   "outputs": [
    {
     "name": "stdout",
     "output_type": "stream",
     "text": [
      "The principal is 9\n",
      "The time period is 6\n",
      "The rate of interest is 9\n",
      "The Simple Interest is 4.86\n"
     ]
    },
    {
     "data": {
      "text/plain": [
       "4.86"
      ]
     },
     "execution_count": 4,
     "metadata": {},
     "output_type": "execute_result"
    }
   ],
   "source": [
    "def simple_interest(p,t,r):\n",
    "    print('The principal is', p)\n",
    "    print('The time period is', t)\n",
    "    print('The rate of interest is',r)\n",
    "    si = (p * t * r)/100\n",
    "    print('The Simple Interest is', si)\n",
    "    return si\n",
    "simple_interest(9, 6, 9)"
   ]
  },
  {
   "cell_type": "code",
   "execution_count": 1,
   "id": "a94679c9",
   "metadata": {},
   "outputs": [
    {
     "name": "stdout",
     "output_type": "stream",
     "text": [
      "Enter your first number2\n",
      "Enter your second number4\n",
      "quotient is: 0.5\n",
      "reminder is: 2\n"
     ]
    }
   ],
   "source": [
    "a=int(input(\"Enter your first number\"))\n",
    "b=int(input(\"Enter your second number\"))\n",
    "quotient=a/b\n",
    "reminder=a%b\n",
    "print(\"quotient is:\",quotient)\n",
    "print(\"reminder is:\",reminder)"
   ]
  },
  {
   "cell_type": "code",
   "execution_count": 4,
   "id": "ba53fe45",
   "metadata": {},
   "outputs": [
    {
     "name": "stdout",
     "output_type": "stream",
     "text": [
      "enter your first number2\n",
      "enter your second number4\n",
      "a is: 8 b is: -2\n"
     ]
    }
   ],
   "source": [
    "a=int(input(\"enter your first number\"))\n",
    "b=int(input(\"enter your second number\"))\n",
    "a=a+b\n",
    "b=b-a\n",
    "a=a-b\n",
    "print(\"a is:\",a,\"b is:\",b)"
   ]
  },
  {
   "cell_type": "code",
   "execution_count": 6,
   "id": "731bd141",
   "metadata": {},
   "outputs": [
    {
     "name": "stdout",
     "output_type": "stream",
     "text": [
      "Enter the number of terms:5\n",
      "the sum of series is 2.28\n"
     ]
    }
   ],
   "source": [
    "n=int(input(\"Enter the number of terms:\"))\n",
    "sum=0\n",
    "for i in range(1,n+1):\n",
    "    sum=sum+(1/i)\n",
    "print(\"the sum of series is\",round(sum,2))  "
   ]
  },
  {
   "cell_type": "code",
   "execution_count": 15,
   "id": "faac194c",
   "metadata": {},
   "outputs": [
    {
     "name": "stdout",
     "output_type": "stream",
     "text": [
      "Enter the number of terms:6\n",
      "sum: 2.7166666666666663\n"
     ]
    }
   ],
   "source": [
    "def sumofseries(num):\n",
    "    r=0\n",
    "    f=1\n",
    "    for i in range(1,num+1):\n",
    "        f=f*i\n",
    "        r=r+(i/f)\n",
    "    return r\n",
    "n=int(input(\"Enter the number of terms:\"))\n",
    "print(\"sum:\",sumofseries(n))"
   ]
  },
  {
   "cell_type": "code",
   "execution_count": null,
   "id": "71dc675a",
   "metadata": {},
   "outputs": [],
   "source": []
  }
 ],
 "metadata": {
  "kernelspec": {
   "display_name": "Python 3 (ipykernel)",
   "language": "python",
   "name": "python3"
  },
  "language_info": {
   "codemirror_mode": {
    "name": "ipython",
    "version": 3
   },
   "file_extension": ".py",
   "mimetype": "text/x-python",
   "name": "python",
   "nbconvert_exporter": "python",
   "pygments_lexer": "ipython3",
   "version": "3.9.13"
  }
 },
 "nbformat": 4,
 "nbformat_minor": 5
}
