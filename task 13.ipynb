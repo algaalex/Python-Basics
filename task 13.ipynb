{
 "cells": [
  {
   "cell_type": "code",
   "execution_count": 1,
   "id": "7ec51507",
   "metadata": {},
   "outputs": [
    {
     "name": "stdout",
     "output_type": "stream",
     "text": [
      "[5, 10, 7, 'Alga', 'Alex', 6.6]\n"
     ]
    }
   ],
   "source": [
    "li=[5,6,7,'Alga','Alex',6.6]\n",
    "li[1]=10\n",
    "print(li)"
   ]
  },
  {
   "cell_type": "code",
   "execution_count": 2,
   "id": "fc6200e3",
   "metadata": {},
   "outputs": [
    {
     "name": "stdout",
     "output_type": "stream",
     "text": [
      "[5, 10, 7, 'Alga', 'Alex', 6.6, 8]\n"
     ]
    }
   ],
   "source": [
    "li.append(8)\n",
    "print(li)"
   ]
  },
  {
   "cell_type": "code",
   "execution_count": 3,
   "id": "504b162e",
   "metadata": {},
   "outputs": [
    {
     "name": "stdout",
     "output_type": "stream",
     "text": [
      "[5, 10, 7, 'Alga', 'Alex', 6.6, 8, 7, 11, 9, 12]\n"
     ]
    }
   ],
   "source": [
    "li.extend([7,11,9,12])\n",
    "print(li)"
   ]
  },
  {
   "cell_type": "code",
   "execution_count": 4,
   "id": "9806e0d6",
   "metadata": {},
   "outputs": [
    {
     "name": "stdout",
     "output_type": "stream",
     "text": [
      "[5, 10, 14, 7, 'Alga', 'Alex', 6.6, 8, 7, 11, 9, 12]\n"
     ]
    }
   ],
   "source": [
    "li.insert(2,14)\n",
    "print(li)"
   ]
  },
  {
   "cell_type": "code",
   "execution_count": 5,
   "id": "26df3943",
   "metadata": {},
   "outputs": [
    {
     "name": "stdout",
     "output_type": "stream",
     "text": [
      "[5, 10, 14, 'Alga', 'Alex', 6.6, 8, 7, 11, 9, 12]\n"
     ]
    }
   ],
   "source": [
    "del li[3]\n",
    "print(li)"
   ]
  },
  {
   "cell_type": "code",
   "execution_count": 6,
   "id": "c0d66b1b",
   "metadata": {},
   "outputs": [
    {
     "name": "stdout",
     "output_type": "stream",
     "text": [
      "[5, 10, 14, 'Alga', 'Alex', 6.6, 8, 7, 11, 9]\n"
     ]
    }
   ],
   "source": [
    "li.pop()\n",
    "print(li)"
   ]
  },
  {
   "cell_type": "code",
   "execution_count": 7,
   "id": "72a389cd",
   "metadata": {},
   "outputs": [
    {
     "name": "stdout",
     "output_type": "stream",
     "text": [
      "[5, 14, 'Alga', 'Alex', 6.6, 8, 7, 11, 9]\n"
     ]
    }
   ],
   "source": [
    "li.remove(10)\n",
    "print(li)"
   ]
  },
  {
   "cell_type": "code",
   "execution_count": 8,
   "id": "c7812dc8",
   "metadata": {},
   "outputs": [
    {
     "name": "stdout",
     "output_type": "stream",
     "text": [
      "\n"
     ]
    }
   ],
   "source": [
    "li.clear()\n",
    "print()"
   ]
  },
  {
   "cell_type": "code",
   "execution_count": 9,
   "id": "46762d46",
   "metadata": {},
   "outputs": [
    {
     "ename": "NameError",
     "evalue": "name 'li' is not defined",
     "output_type": "error",
     "traceback": [
      "\u001b[1;31m---------------------------------------------------------------------------\u001b[0m",
      "\u001b[1;31mNameError\u001b[0m                                 Traceback (most recent call last)",
      "\u001b[1;32m~\\AppData\\Local\\Temp\\ipykernel_3920\\1929118475.py\u001b[0m in \u001b[0;36m<module>\u001b[1;34m\u001b[0m\n\u001b[0;32m      1\u001b[0m \u001b[1;32mdel\u001b[0m \u001b[0mli\u001b[0m\u001b[1;33m\u001b[0m\u001b[1;33m\u001b[0m\u001b[0m\n\u001b[1;32m----> 2\u001b[1;33m \u001b[0mprint\u001b[0m\u001b[1;33m(\u001b[0m\u001b[0mli\u001b[0m\u001b[1;33m)\u001b[0m\u001b[1;33m\u001b[0m\u001b[1;33m\u001b[0m\u001b[0m\n\u001b[0m",
      "\u001b[1;31mNameError\u001b[0m: name 'li' is not defined"
     ]
    }
   ],
   "source": [
    "del li\n",
    "print(li)"
   ]
  },
  {
   "cell_type": "code",
   "execution_count": 14,
   "id": "7060ac18",
   "metadata": {},
   "outputs": [
    {
     "data": {
      "text/plain": [
       "2"
      ]
     },
     "execution_count": 14,
     "metadata": {},
     "output_type": "execute_result"
    }
   ],
   "source": [
    "a=[1,2,1,3,4,5]\n",
    "a.count(1)"
   ]
  },
  {
   "cell_type": "code",
   "execution_count": 15,
   "id": "c35bae59",
   "metadata": {},
   "outputs": [
    {
     "data": {
      "text/plain": [
       "5"
      ]
     },
     "execution_count": 15,
     "metadata": {},
     "output_type": "execute_result"
    }
   ],
   "source": [
    "a.index(5)"
   ]
  },
  {
   "cell_type": "code",
   "execution_count": 16,
   "id": "a3490b7b",
   "metadata": {},
   "outputs": [
    {
     "name": "stdout",
     "output_type": "stream",
     "text": [
      "[1, 2, 3]\n",
      "[1, 2, 3]\n"
     ]
    }
   ],
   "source": [
    "a=[1,2,3]\n",
    "b=a\n",
    "print(a)\n",
    "print(b)"
   ]
  },
  {
   "cell_type": "code",
   "execution_count": 17,
   "id": "8696c158",
   "metadata": {},
   "outputs": [
    {
     "name": "stdout",
     "output_type": "stream",
     "text": [
      "[1, 2, 3, 4]\n",
      "[1, 2, 3, 4]\n"
     ]
    }
   ],
   "source": [
    "a.append(4)\n",
    "print(a)\n",
    "print(b)"
   ]
  },
  {
   "cell_type": "code",
   "execution_count": 18,
   "id": "004723c9",
   "metadata": {},
   "outputs": [
    {
     "name": "stdout",
     "output_type": "stream",
     "text": [
      "[1, 2, 3]\n",
      "[1, 2, 3]\n"
     ]
    }
   ],
   "source": [
    "a=[1,2,3]\n",
    "b=a.copy()\n",
    "print(a)\n",
    "print(b)"
   ]
  },
  {
   "cell_type": "code",
   "execution_count": 19,
   "id": "d6c286fe",
   "metadata": {},
   "outputs": [
    {
     "name": "stdout",
     "output_type": "stream",
     "text": [
      "[1, 2, 3]\n",
      "[1, 2, 3, 4]\n"
     ]
    }
   ],
   "source": [
    "b.append(4)\n",
    "print(a)\n",
    "print(b)"
   ]
  },
  {
   "cell_type": "code",
   "execution_count": 20,
   "id": "07a25392",
   "metadata": {},
   "outputs": [
    {
     "name": "stdout",
     "output_type": "stream",
     "text": [
      "[8, 7, 6, 5, 4, 3, 2, 1]\n"
     ]
    }
   ],
   "source": [
    "a=[1,2,3,4,5,6,7,8]\n",
    "a.reverse()\n",
    "print(a)"
   ]
  },
  {
   "cell_type": "code",
   "execution_count": 21,
   "id": "490ff597",
   "metadata": {},
   "outputs": [
    {
     "name": "stdout",
     "output_type": "stream",
     "text": [
      "[1, 2, 3, 4, 5, 6, 7, 8]\n"
     ]
    }
   ],
   "source": [
    "a.sort()\n",
    "print(a)"
   ]
  },
  {
   "cell_type": "code",
   "execution_count": 22,
   "id": "67b8106f",
   "metadata": {},
   "outputs": [
    {
     "name": "stdout",
     "output_type": "stream",
     "text": [
      "True\n"
     ]
    }
   ],
   "source": [
    "a=\"company12\"\n",
    "x=a.isalnum()\n",
    "print(x)"
   ]
  },
  {
   "cell_type": "code",
   "execution_count": 23,
   "id": "513d5dc9",
   "metadata": {},
   "outputs": [
    {
     "name": "stdout",
     "output_type": "stream",
     "text": [
      "True\n"
     ]
    }
   ],
   "source": [
    "a=\"companyX\"\n",
    "x=a.isalpha()\n",
    "print(x)"
   ]
  },
  {
   "cell_type": "code",
   "execution_count": 24,
   "id": "d1e494b3",
   "metadata": {},
   "outputs": [
    {
     "name": "stdout",
     "output_type": "stream",
     "text": [
      "True\n"
     ]
    }
   ],
   "source": [
    "a='12345'\n",
    "print(a.isdigit())"
   ]
  },
  {
   "cell_type": "code",
   "execution_count": 27,
   "id": "71131c5a",
   "metadata": {},
   "outputs": [
    {
     "name": "stdout",
     "output_type": "stream",
     "text": [
      "False\n"
     ]
    }
   ],
   "source": [
    "a='python'\n",
    "print(a.isdigit())"
   ]
  },
  {
   "cell_type": "code",
   "execution_count": 34,
   "id": "711f02c8",
   "metadata": {},
   "outputs": [
    {
     "name": "stdout",
     "output_type": "stream",
     "text": [
      "True\n"
     ]
    }
   ],
   "source": [
    "s='\\t'\n",
    "print(s.isspace())"
   ]
  },
  {
   "cell_type": "code",
   "execution_count": 35,
   "id": "8ef3bd70",
   "metadata": {},
   "outputs": [
    {
     "name": "stdout",
     "output_type": "stream",
     "text": [
      "False\n"
     ]
    }
   ],
   "source": [
    "s='t'\n",
    "print(s.isspace())"
   ]
  },
  {
   "cell_type": "code",
   "execution_count": 36,
   "id": "bd036aac",
   "metadata": {},
   "outputs": [
    {
     "name": "stdout",
     "output_type": "stream",
     "text": [
      "True\n"
     ]
    }
   ],
   "source": [
    "s=\"good\"\n",
    "print(s.islower())"
   ]
  },
  {
   "cell_type": "code",
   "execution_count": 40,
   "id": "7661dffc",
   "metadata": {},
   "outputs": [
    {
     "name": "stdout",
     "output_type": "stream",
     "text": [
      "True\n"
     ]
    }
   ],
   "source": [
    "s=\"GOOD\"\n",
    "print(s.isupper())"
   ]
  },
  {
   "cell_type": "code",
   "execution_count": 43,
   "id": "8ea4eee5",
   "metadata": {},
   "outputs": [
    {
     "name": "stdout",
     "output_type": "stream",
     "text": [
      "True\n"
     ]
    }
   ],
   "source": [
    "s=\"Python Is Good\"\n",
    "print(s.istitle())  "
   ]
  },
  {
   "cell_type": "code",
   "execution_count": 2,
   "id": "5bc17d0f",
   "metadata": {},
   "outputs": [
    {
     "name": "stdout",
     "output_type": "stream",
     "text": [
      "['one', 'two', 'three']\n"
     ]
    }
   ],
   "source": [
    "a=\"one,two,three\"\n",
    "x=a.split(',')\n",
    "print(x)"
   ]
  },
  {
   "cell_type": "code",
   "execution_count": 3,
   "id": "2182527a",
   "metadata": {},
   "outputs": [
    {
     "name": "stdout",
     "output_type": "stream",
     "text": [
      "this should all be lowercase\n"
     ]
    }
   ],
   "source": [
    "s1=\"THIS SHOULD ALL BE LOWERCASE\"\n",
    "print(s1.swapcase())"
   ]
  },
  {
   "cell_type": "code",
   "execution_count": 4,
   "id": "a2874d95",
   "metadata": {},
   "outputs": [
    {
     "name": "stdout",
     "output_type": "stream",
     "text": [
      "THIS SHOULD ALL BE LOWERCASE\n"
     ]
    }
   ],
   "source": [
    "s2=\"this should all be lowercase\"\n",
    "print(s2.swapcase())"
   ]
  },
  {
   "cell_type": "code",
   "execution_count": 6,
   "id": "4e1a4093",
   "metadata": {},
   "outputs": [
    {
     "name": "stdout",
     "output_type": "stream",
     "text": [
      "apple-cherry-banana\n"
     ]
    }
   ],
   "source": [
    "myset={\"apple\",\"banana\",\"cherry\"}\n",
    "s=\"-\"\n",
    "x=s.join(myset)\n",
    "print(x)"
   ]
  },
  {
   "cell_type": "code",
   "execution_count": 2,
   "id": "4e105b18",
   "metadata": {},
   "outputs": [
    {
     "name": "stdout",
     "output_type": "stream",
     "text": [
      "True\n"
     ]
    }
   ],
   "source": [
    "a=[1,2,3]\n",
    "print(all(a))"
   ]
  },
  {
   "cell_type": "code",
   "execution_count": 4,
   "id": "e503a7ed",
   "metadata": {},
   "outputs": [
    {
     "name": "stdout",
     "output_type": "stream",
     "text": [
      "True\n"
     ]
    }
   ],
   "source": [
    "a=(0,1,)\n",
    "x=any(a)\n",
    "print(x)"
   ]
  },
  {
   "cell_type": "code",
   "execution_count": 1,
   "id": "a2e18a12",
   "metadata": {},
   "outputs": [
    {
     "name": "stdout",
     "output_type": "stream",
     "text": [
      "1\n"
     ]
    }
   ],
   "source": [
    "a=(1,5,3,9)\n",
    "x=min(a)\n",
    "print(x)"
   ]
  },
  {
   "cell_type": "code",
   "execution_count": 4,
   "id": "0bb90ed9",
   "metadata": {},
   "outputs": [
    {
     "name": "stdout",
     "output_type": "stream",
     "text": [
      "9\n"
     ]
    }
   ],
   "source": [
    "a=(1,5,3,9)\n",
    "x=max(a)\n",
    "print(x)"
   ]
  },
  {
   "cell_type": "code",
   "execution_count": 5,
   "id": "c86ed710",
   "metadata": {},
   "outputs": [
    {
     "name": "stdout",
     "output_type": "stream",
     "text": [
      "15\n"
     ]
    }
   ],
   "source": [
    "marks=(1,2,3,4,5)\n",
    "x=sum(marks)\n",
    "print(x)"
   ]
  },
  {
   "cell_type": "code",
   "execution_count": 6,
   "id": "ba01cbb2",
   "metadata": {},
   "outputs": [
    {
     "name": "stdout",
     "output_type": "stream",
     "text": [
      "['A', 'B', 'C', 'D', 'E', 'F']\n"
     ]
    }
   ],
   "source": [
    "a=\"ABCDEF\"\n",
    "x=list(a)\n",
    "print(x)"
   ]
  },
  {
   "cell_type": "code",
   "execution_count": 7,
   "id": "84d51310",
   "metadata": {},
   "outputs": [
    {
     "name": "stdout",
     "output_type": "stream",
     "text": [
      "[1, 2, 11]\n"
     ]
    }
   ],
   "source": [
    "a=(1,11,2)\n",
    "x=sorted(a)\n",
    "print(x)"
   ]
  },
  {
   "cell_type": "code",
   "execution_count": 8,
   "id": "f26abd98",
   "metadata": {},
   "outputs": [
    {
     "name": "stdout",
     "output_type": "stream",
     "text": [
      "['alex', 'alga']\n"
     ]
    }
   ],
   "source": [
    "a=['alga', 'alex']\n",
    "a.reverse()\n",
    "print(a)"
   ]
  },
  {
   "cell_type": "code",
   "execution_count": null,
   "id": "69bd1afe",
   "metadata": {},
   "outputs": [],
   "source": []
  }
 ],
 "metadata": {
  "kernelspec": {
   "display_name": "Python 3 (ipykernel)",
   "language": "python",
   "name": "python3"
  },
  "language_info": {
   "codemirror_mode": {
    "name": "ipython",
    "version": 3
   },
   "file_extension": ".py",
   "mimetype": "text/x-python",
   "name": "python",
   "nbconvert_exporter": "python",
   "pygments_lexer": "ipython3",
   "version": "3.9.13"
  }
 },
 "nbformat": 4,
 "nbformat_minor": 5
}
