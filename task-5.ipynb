{
 "cells": [
  {
   "cell_type": "code",
   "execution_count": 1,
   "id": "0ef16262",
   "metadata": {},
   "outputs": [
    {
     "name": "stdout",
     "output_type": "stream",
     "text": [
      "[1, 2, 3, 'alga', 'c', 5]\n"
     ]
    }
   ],
   "source": [
    "a=[1,2,3,'alga','c',5]\n",
    "print(a)\n"
   ]
  },
  {
   "cell_type": "code",
   "execution_count": 2,
   "id": "c0ed77e4",
   "metadata": {},
   "outputs": [
    {
     "name": "stdout",
     "output_type": "stream",
     "text": [
      "1\n",
      "2\n",
      "3\n",
      "alga\n",
      "c\n",
      "5\n"
     ]
    }
   ],
   "source": [
    "for i in a:\n",
    "    print(i)"
   ]
  },
  {
   "cell_type": "code",
   "execution_count": 3,
   "id": "0ccbccde",
   "metadata": {},
   "outputs": [
    {
     "name": "stdout",
     "output_type": "stream",
     "text": [
      "b is largest\n"
     ]
    }
   ],
   "source": [
    "a=20\n",
    "b=30\n",
    "c=10\n",
    "if a>b and a>c:\n",
    "    print(\"a is largest\")\n",
    "elif b>a and b>c:\n",
    "    print(\"b is largest\")\n",
    "else:\n",
    "    print(\"c is zero\")"
   ]
  },
  {
   "cell_type": "code",
   "execution_count": 4,
   "id": "f3aaccf7",
   "metadata": {},
   "outputs": [
    {
     "name": "stdout",
     "output_type": "stream",
     "text": [
      "enter your value6\n",
      "positive\n"
     ]
    }
   ],
   "source": [
    "a=int(input(\"enter your value\"))\n",
    "if a>0:\n",
    "    print(\"positive\")\n",
    "elif a<0:\n",
    "    print(\"negative\")\n",
    "else:\n",
    "    print(\"zero\")"
   ]
  },
  {
   "cell_type": "code",
   "execution_count": 34,
   "id": "70eb4a39",
   "metadata": {},
   "outputs": [
    {
     "name": "stdout",
     "output_type": "stream",
     "text": [
      "enter your value90\n",
      "enter your value80\n",
      "enter your value88\n",
      "enter your value98\n",
      "enter your value78\n",
      "86.8\n"
     ]
    }
   ],
   "source": [
    "s1=int(input(\"enter your value\"))\n",
    "s2=int(input(\"enter your value\"))\n",
    "s3=int(input(\"enter your value\"))\n",
    "s4=int(input(\"enter your value\"))\n",
    "s5=int(input(\"enter your value\"))\n",
    "avg=s1+s2+s3+s4+s5\n",
    "avgs=avg/5\n",
    "print(avgs)"
   ]
  },
  {
   "cell_type": "code",
   "execution_count": 38,
   "id": "42488227",
   "metadata": {},
   "outputs": [
    {
     "name": "stdout",
     "output_type": "stream",
     "text": [
      "A\n"
     ]
    }
   ],
   "source": [
    "if (avgs>=90 and avgs<=100):\n",
    "    print('A+')\n",
    "elif (avgs>=80 and avgs<=89):\n",
    "    print('A')\n",
    "elif (avgs>=70 and avgs<=79):\n",
    "    print('B+')\n",
    "elif (avgs>=60 and avgs<=69):\n",
    "    print('B')\n",
    "elif (avgs>=50 and avgs<=59):\n",
    "    print('C+')\n",
    "elif (avgs>=40 and avgs<=49):\n",
    "    print('c')\n",
    "elif (avgs>=30 and avgs<=39):\n",
    "    print('D+')\n",
    "elif (avgs>=20 and avgs<=29):\n",
    "    print('D')\n",
    "else:\n",
    "    print('E')"
   ]
  },
  {
   "cell_type": "code",
   "execution_count": 10,
   "id": "de929315",
   "metadata": {},
   "outputs": [
    {
     "name": "stdout",
     "output_type": "stream",
     "text": [
      "(1, 2, 3, 'hai', 'hello', 4.5)\n"
     ]
    }
   ],
   "source": [
    "t=(1,2,3,'hai','hello',4.5)\n",
    "print(t)"
   ]
  },
  {
   "cell_type": "code",
   "execution_count": 16,
   "id": "c0b49767",
   "metadata": {},
   "outputs": [
    {
     "name": "stdout",
     "output_type": "stream",
     "text": [
      "(1, 2, 3, 5, 6, 7, 8, 9)\n"
     ]
    }
   ],
   "source": [
    "t2=(1,2,3,5,6,7,8,9)\n",
    "print(t2)"
   ]
  },
  {
   "cell_type": "code",
   "execution_count": 18,
   "id": "e0d231fd",
   "metadata": {},
   "outputs": [
    {
     "name": "stdout",
     "output_type": "stream",
     "text": [
      "(1, 2, 3, 4, 5, 6, 7, 8)\n"
     ]
    }
   ],
   "source": [
    "a=[1,2,3,4,5,6,7,8]\n",
    "b=tuple(a)\n",
    "print(b)"
   ]
  },
  {
   "cell_type": "code",
   "execution_count": 33,
   "id": "b3e7682a",
   "metadata": {},
   "outputs": [
    {
     "name": "stdout",
     "output_type": "stream",
     "text": [
      "{'name': 'helga', 'place': 'calicut', 'age': '24'}\n"
     ]
    }
   ],
   "source": [
    "d={'name':'helga','place':'calicut','age':'24'}\n",
    "print(d)"
   ]
  },
  {
   "cell_type": "code",
   "execution_count": 31,
   "id": "5067696d",
   "metadata": {},
   "outputs": [
    {
     "name": "stdout",
     "output_type": "stream",
     "text": [
      "enter your value28\n",
      "can vote and contest\n"
     ]
    }
   ],
   "source": [
    "a=int(input(\"enter your value\"))\n",
    "if a<18:\n",
    "    print(\"cannot vote\")\n",
    "elif a>=18 and a>=25:\n",
    "    print(\"can vote and contest\")\n",
    "else:\n",
    "    print(\"cast vote\")"
   ]
  },
  {
   "cell_type": "code",
   "execution_count": 39,
   "id": "a1b961ca",
   "metadata": {},
   "outputs": [
    {
     "name": "stdout",
     "output_type": "stream",
     "text": [
      "r\n"
     ]
    }
   ],
   "source": [
    "a=\"learn python\"\n",
    "print(a[3])"
   ]
  },
  {
   "cell_type": "code",
   "execution_count": 40,
   "id": "1ff24c0b",
   "metadata": {},
   "outputs": [
    {
     "data": {
      "text/plain": [
       "12"
      ]
     },
     "execution_count": 40,
     "metadata": {},
     "output_type": "execute_result"
    }
   ],
   "source": [
    "len(a)"
   ]
  },
  {
   "cell_type": "code",
   "execution_count": 41,
   "id": "501b10d0",
   "metadata": {},
   "outputs": [
    {
     "data": {
      "text/plain": [
       "'Learn python'"
      ]
     },
     "execution_count": 41,
     "metadata": {},
     "output_type": "execute_result"
    }
   ],
   "source": [
    "a.capitalize()"
   ]
  },
  {
   "cell_type": "code",
   "execution_count": 43,
   "id": "d70ff9dc",
   "metadata": {},
   "outputs": [
    {
     "data": {
      "text/plain": [
       "'Learn Python'"
      ]
     },
     "execution_count": 43,
     "metadata": {},
     "output_type": "execute_result"
    }
   ],
   "source": [
    "a.title()"
   ]
  },
  {
   "cell_type": "code",
   "execution_count": 45,
   "id": "51ababf4",
   "metadata": {},
   "outputs": [
    {
     "data": {
      "text/plain": [
       "'LEARN PYTHON'"
      ]
     },
     "execution_count": 45,
     "metadata": {},
     "output_type": "execute_result"
    }
   ],
   "source": [
    "a.upper()"
   ]
  },
  {
   "cell_type": "code",
   "execution_count": 46,
   "id": "6aae9bea",
   "metadata": {},
   "outputs": [
    {
     "data": {
      "text/plain": [
       "'hai'"
      ]
     },
     "execution_count": 46,
     "metadata": {},
     "output_type": "execute_result"
    }
   ],
   "source": [
    "b='HAI'\n",
    "b.lower()"
   ]
  },
  {
   "cell_type": "code",
   "execution_count": 47,
   "id": "d8aad773",
   "metadata": {},
   "outputs": [
    {
     "data": {
      "text/plain": [
       "1"
      ]
     },
     "execution_count": 47,
     "metadata": {},
     "output_type": "execute_result"
    }
   ],
   "source": [
    "a.count('python')"
   ]
  },
  {
   "cell_type": "code",
   "execution_count": 48,
   "id": "f08ee4d0",
   "metadata": {},
   "outputs": [
    {
     "data": {
      "text/plain": [
       "6"
      ]
     },
     "execution_count": 48,
     "metadata": {},
     "output_type": "execute_result"
    }
   ],
   "source": [
    "a.find('python')"
   ]
  },
  {
   "cell_type": "code",
   "execution_count": 49,
   "id": "5e3970e6",
   "metadata": {},
   "outputs": [
    {
     "data": {
      "text/plain": [
       "-1"
      ]
     },
     "execution_count": 49,
     "metadata": {},
     "output_type": "execute_result"
    }
   ],
   "source": [
    "a.find('hello')"
   ]
  },
  {
   "cell_type": "code",
   "execution_count": 51,
   "id": "e10838d6",
   "metadata": {},
   "outputs": [
    {
     "data": {
      "text/plain": [
       "0"
      ]
     },
     "execution_count": 51,
     "metadata": {},
     "output_type": "execute_result"
    }
   ],
   "source": [
    "a.index('learn')"
   ]
  },
  {
   "cell_type": "code",
   "execution_count": 53,
   "id": "744cee5e",
   "metadata": {},
   "outputs": [
    {
     "ename": "ValueError",
     "evalue": "substring not found",
     "output_type": "error",
     "traceback": [
      "\u001b[1;31m---------------------------------------------------------------------------\u001b[0m",
      "\u001b[1;31mValueError\u001b[0m                                Traceback (most recent call last)",
      "\u001b[1;32m~\\AppData\\Local\\Temp\\ipykernel_20928\\875232208.py\u001b[0m in \u001b[0;36m<module>\u001b[1;34m\u001b[0m\n\u001b[1;32m----> 1\u001b[1;33m \u001b[0ma\u001b[0m\u001b[1;33m.\u001b[0m\u001b[0mindex\u001b[0m\u001b[1;33m(\u001b[0m\u001b[1;34m'hello'\u001b[0m\u001b[1;33m)\u001b[0m\u001b[1;33m\u001b[0m\u001b[1;33m\u001b[0m\u001b[0m\n\u001b[0m",
      "\u001b[1;31mValueError\u001b[0m: substring not found"
     ]
    }
   ],
   "source": [
    "a.index('hello')"
   ]
  },
  {
   "cell_type": "code",
   "execution_count": 57,
   "id": "13b182b5",
   "metadata": {},
   "outputs": [
    {
     "data": {
      "text/plain": [
       "'learn data analytics'"
      ]
     },
     "execution_count": 57,
     "metadata": {},
     "output_type": "execute_result"
    }
   ],
   "source": [
    "a.replace('python','data analytics')"
   ]
  },
  {
   "cell_type": "code",
   "execution_count": null,
   "id": "5d112dae",
   "metadata": {},
   "outputs": [],
   "source": []
  }
 ],
 "metadata": {
  "kernelspec": {
   "display_name": "Python 3 (ipykernel)",
   "language": "python",
   "name": "python3"
  },
  "language_info": {
   "codemirror_mode": {
    "name": "ipython",
    "version": 3
   },
   "file_extension": ".py",
   "mimetype": "text/x-python",
   "name": "python",
   "nbconvert_exporter": "python",
   "pygments_lexer": "ipython3",
   "version": "3.9.13"
  }
 },
 "nbformat": 4,
 "nbformat_minor": 5
}
