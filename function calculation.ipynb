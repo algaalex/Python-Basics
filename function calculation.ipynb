{
 "cells": [
  {
   "cell_type": "code",
   "execution_count": 4,
   "id": "2a01720f",
   "metadata": {},
   "outputs": [
    {
     "name": "stdout",
     "output_type": "stream",
     "text": [
      "Enter first number33\n",
      "Enter second number55\n",
      "Enter your operator+\n",
      "88\n"
     ]
    }
   ],
   "source": [
    "a=int(input(\"Enter first number\"))\n",
    "b=int(input(\"Enter second number\"))\n",
    "c=input(\"Enter your operator\")\n",
    "if c==\"+\":\n",
    "      print(a+b)\n",
    "elif c==\"-\":\n",
    "      print(a-b)\n",
    "elif c==\"*\":\n",
    "      print(a*b)\n",
    "elif c==\"/\":\n",
    "      print(a/b)\n",
    "elif c==\"%\":\n",
    "      print(a%b)\n",
    "else:\n",
    "      print(\"input character is not recognized\")"
   ]
  },
  {
   "cell_type": "code",
   "execution_count": null,
   "id": "572bd1f3",
   "metadata": {},
   "outputs": [],
   "source": []
  }
 ],
 "metadata": {
  "kernelspec": {
   "display_name": "Python 3 (ipykernel)",
   "language": "python",
   "name": "python3"
  },
  "language_info": {
   "codemirror_mode": {
    "name": "ipython",
    "version": 3
   },
   "file_extension": ".py",
   "mimetype": "text/x-python",
   "name": "python",
   "nbconvert_exporter": "python",
   "pygments_lexer": "ipython3",
   "version": "3.9.13"
  }
 },
 "nbformat": 4,
 "nbformat_minor": 5
}
