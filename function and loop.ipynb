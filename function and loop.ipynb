{
 "cells": [
  {
   "cell_type": "code",
   "execution_count": 1,
   "id": "c4febc06",
   "metadata": {},
   "outputs": [
    {
     "name": "stdout",
     "output_type": "stream",
     "text": [
      "display multiplication table of?8\n",
      "12 x 1 = 12\n",
      "12 x 2 = 24\n",
      "12 x 3 = 36\n",
      "12 x 4 = 48\n",
      "12 x 5 = 60\n",
      "12 x 6 = 72\n",
      "12 x 7 = 84\n",
      "12 x 8 = 96\n",
      "12 x 9 = 108\n",
      "12 x 10 = 120\n"
     ]
    }
   ],
   "source": [
    "num=12\n",
    "num-int(input(\"display multiplication table of?\"))\n",
    "for i in range(1,11):\n",
    "    print(num, 'x',i,'=', num*i)"
   ]
  },
  {
   "cell_type": "code",
   "execution_count": 2,
   "id": "9d50e28f",
   "metadata": {},
   "outputs": [
    {
     "name": "stdout",
     "output_type": "stream",
     "text": [
      "Answer = 9\n"
     ]
    }
   ],
   "source": [
    "b = 3\n",
    "e = 2\n",
    "r = 1\n",
    "for e in range(e, 0, -1):\n",
    "    r*=b\n",
    "print(\"Answer = \" + str(r))"
   ]
  },
  {
   "cell_type": "code",
   "execution_count": 3,
   "id": "9c503e8d",
   "metadata": {},
   "outputs": [
    {
     "name": "stdout",
     "output_type": "stream",
     "text": [
      "0 1 1 2 3 5 8 13 21 34 "
     ]
    }
   ],
   "source": [
    "def fibonacci(number):\n",
    "    a = 0\n",
    "    b = 1\n",
    "    print(a,end = ' ')\n",
    "    print(b, end = ' ')\n",
    "    for num in range( 2 , number):\n",
    "        c = a + b\n",
    "        a = b\n",
    "        b = c\n",
    "        print(c, end = \" \")\n",
    "fibonacci(10)"
   ]
  },
  {
   "cell_type": "code",
   "execution_count": 4,
   "id": "292ba634",
   "metadata": {},
   "outputs": [
    {
     "name": "stdout",
     "output_type": "stream",
     "text": [
      "Enter the Radius of Circle: \n",
      "6\n",
      "\n",
      "Area =  339.12\n"
     ]
    }
   ],
   "source": [
    "print(\"Enter the Radius of Circle: \")\n",
    "r = float(input())\n",
    "a = 3*3.14*r*r\n",
    "print(\"\\nArea = \", a)"
   ]
  },
  {
   "cell_type": "code",
   "execution_count": 5,
   "id": "a5c2e913",
   "metadata": {},
   "outputs": [
    {
     "name": "stdout",
     "output_type": "stream",
     "text": [
      "Volume of the cube:  1000\n"
     ]
    }
   ],
   "source": [
    "def volume(cube_edge):\n",
    "   cube_volume = (cube_edge)*(cube_edge)*(cube_edge)\n",
    "   print(\"Volume of the cube: \", str(cube_volume))\n",
    "volume(10)"
   ]
  },
  {
   "cell_type": "code",
   "execution_count": 6,
   "id": "6e59c3c5",
   "metadata": {},
   "outputs": [
    {
     "name": "stdout",
     "output_type": "stream",
     "text": [
      "Enter Length of Rectangle: \n",
      "8\n",
      "Enter Breadth of Rectangle: \n",
      "6\n",
      "Area =  48.0\n"
     ]
    }
   ],
   "source": [
    "print(\"Enter Length of Rectangle: \")\n",
    "len = float(input())\n",
    "print(\"Enter Breadth of Rectangle: \")\n",
    "bre= float(input())\n",
    "a = len*bre\n",
    "print(\"Area = \", a)"
   ]
  },
  {
   "cell_type": "code",
   "execution_count": 7,
   "id": "5550d4b7",
   "metadata": {},
   "outputs": [
    {
     "name": "stdout",
     "output_type": "stream",
     "text": [
      "144\n"
     ]
    }
   ],
   "source": [
    "def Areaofsquare(side):\n",
    "    Area = side*side \n",
    "    return Area\n",
    "side = 12\n",
    "print(Areaofsquare(side))"
   ]
  },
  {
   "cell_type": "code",
   "execution_count": 8,
   "id": "a2187512",
   "metadata": {},
   "outputs": [
    {
     "name": "stdout",
     "output_type": "stream",
     "text": [
      "Enter text: to illustarte\n",
      "o\n",
      "i\n",
      "u\n",
      "a\n",
      "e\n"
     ]
    }
   ],
   "source": [
    "t= input('Enter text: ')\n",
    "for char in t:\n",
    "    if char.lower() in 'aeiou':\n",
    "        print(char)  "
   ]
  },
  {
   "cell_type": "code",
   "execution_count": 1,
   "id": "4653069b",
   "metadata": {},
   "outputs": [],
   "source": [
    "def ispalindrome(string):\n",
    "    if(string==string[::-1]):\n",
    "        return(\"The String is a palindrome\")\n",
    "    else:\n",
    "        return(\"The string is not a palindrome\")\n",
    "    print(ispalindrome(string))    "
   ]
  },
  {
   "cell_type": "code",
   "execution_count": 2,
   "id": "57711569",
   "metadata": {},
   "outputs": [
    {
     "ename": "IndentationError",
     "evalue": "unexpected indent (3332338855.py, line 2)",
     "output_type": "error",
     "traceback": [
      "\u001b[1;36m  File \u001b[1;32m\"C:\\Users\\HP\\AppData\\Local\\Temp\\ipykernel_9908\\3332338855.py\"\u001b[1;36m, line \u001b[1;32m2\u001b[0m\n\u001b[1;33m    val = int(num)\u001b[0m\n\u001b[1;37m    ^\u001b[0m\n\u001b[1;31mIndentationError\u001b[0m\u001b[1;31m:\u001b[0m unexpected indent\n"
     ]
    }
   ],
   "source": [
    "num = input('Enter any number : ')\n",
    "   val = int(num)\n",
    "   if num == str(num)[::-1]:\n",
    "      print('The given number is PALINDROME')\n",
    "   else:\n",
    "      print('The given number is NOT a palindrome')"
   ]
  },
  {
   "cell_type": "code",
   "execution_count": 5,
   "id": "9f842a9a",
   "metadata": {},
   "outputs": [
    {
     "name": "stdout",
     "output_type": "stream",
     "text": [
      "11 is a prime number\n"
     ]
    }
   ],
   "source": [
    "num = 11\n",
    "if num > 1:\n",
    "    for i in range(2, int(num/2)+1):\n",
    "        if (num % i) == 0:\n",
    "            print(num, \"is not a prime number\")\n",
    "            break\n",
    "    else:\n",
    "        print(num, \"is a prime number\")\n",
    "else:\n",
    "    print(num, \"is not a prime number\")\n"
   ]
  },
  {
   "cell_type": "code",
   "execution_count": 9,
   "id": "0f36cad6",
   "metadata": {},
   "outputs": [
    {
     "name": "stdout",
     "output_type": "stream",
     "text": [
      "Enter a number: 1\n",
      "1 is an Armstrong number\n"
     ]
    }
   ],
   "source": [
    "num = int(input(\"Enter a number: \"))\n",
    "sum = 0\n",
    "temp = num\n",
    "while temp > 0:\n",
    "   digit = temp % 10\n",
    "   sum += digit ** 3\n",
    "   temp //= 10\n",
    "if num == sum:\n",
    "   print(num,\"is an Armstrong number\")\n",
    "else:\n",
    "   print(num,\"is not an Armstrong number\")"
   ]
  },
  {
   "cell_type": "code",
   "execution_count": 2,
   "id": "1a86c33f",
   "metadata": {},
   "outputs": [
    {
     "ename": "IndentationError",
     "evalue": "unindent does not match any outer indentation level (<tokenize>, line 6)",
     "output_type": "error",
     "traceback": [
      "\u001b[1;36m  File \u001b[1;32m\"<tokenize>\"\u001b[1;36m, line \u001b[1;32m6\u001b[0m\n\u001b[1;33m    n =-4+5=>9\u001b[0m\n\u001b[1;37m    ^\u001b[0m\n\u001b[1;31mIndentationError\u001b[0m\u001b[1;31m:\u001b[0m unindent does not match any outer indentation level\n"
     ]
    }
   ],
   "source": [
    "def getSum(n):\n",
    "    sum = 0\n",
    "    for digit in str(n): \n",
    "      sum += int(digit)      \n",
    "    return sum\n",
    "   n =-4+5=>9\n",
    "print(getSum(n))"
   ]
  },
  {
   "cell_type": "code",
   "execution_count": 12,
   "id": "54e9d5ac",
   "metadata": {},
   "outputs": [
    {
     "name": "stdout",
     "output_type": "stream",
     "text": [
      "Reversed Number: 4321\n"
     ]
    }
   ],
   "source": [
    "num = 1234\n",
    "reversed_num = 0\n",
    "while num != 0:\n",
    "    digit = num % 10\n",
    "    reversed_num = reversed_num * 10 + digit\n",
    "    num //= 10\n",
    "print(\"Reversed Number: \" + str(reversed_num))"
   ]
  },
  {
   "cell_type": "code",
   "execution_count": null,
   "id": "61d0ba8f",
   "metadata": {},
   "outputs": [],
   "source": [
    "def show_employee(name,salary=9000)"
   ]
  }
 ],
 "metadata": {
  "kernelspec": {
   "display_name": "Python 3 (ipykernel)",
   "language": "python",
   "name": "python3"
  },
  "language_info": {
   "codemirror_mode": {
    "name": "ipython",
    "version": 3
   },
   "file_extension": ".py",
   "mimetype": "text/x-python",
   "name": "python",
   "nbconvert_exporter": "python",
   "pygments_lexer": "ipython3",
   "version": "3.9.13"
  }
 },
 "nbformat": 4,
 "nbformat_minor": 5
}
