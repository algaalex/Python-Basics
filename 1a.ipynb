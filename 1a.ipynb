{
 "cells": [
  {
   "cell_type": "code",
   "execution_count": 2,
   "id": "21acae9e",
   "metadata": {},
   "outputs": [
    {
     "name": "stdout",
     "output_type": "stream",
     "text": [
      "length of the string is :\n",
      "16\n"
     ]
    }
   ],
   "source": [
    "st=(\"python is simple\")\n",
    "count=0\n",
    "for i in st:\n",
    "    count=count+1\n",
    "print(\"length of the string is :\")    \n",
    "print(count)"
   ]
  },
  {
   "cell_type": "code",
   "execution_count": 2,
   "id": "5d58280d",
   "metadata": {},
   "outputs": [
    {
     "name": "stdout",
     "output_type": "stream",
     "text": [
      "Enter your string:good morning\n",
      "Number of words in the string:\n",
      "2\n",
      "Number of characters in the string:\n",
      "12\n"
     ]
    }
   ],
   "source": [
    "st=input(\"Enter your string:\")\n",
    "char=0\n",
    "word=1\n",
    "for i in st:\n",
    "      char=(char+1)\n",
    "      if(i==' '):\n",
    "            word=word+1\n",
    "print(\"Number of words in the string:\")\n",
    "print(word)\n",
    "print(\"Number of characters in the string:\")\n",
    "print(char)"
   ]
  },
  {
   "cell_type": "code",
   "execution_count": 9,
   "id": "d7a74b04",
   "metadata": {},
   "outputs": [
    {
     "name": "stdout",
     "output_type": "stream",
     "text": [
      "enter your string sequence of characters\n",
      " sequence of characters\n",
      "_ _s_e_q_u_e_n_c_e_ _o_f_ _c_h_a_r_a_c_t_e_r_s_\n"
     ]
    }
   ],
   "source": [
    "s1=input(\"enter your string\")\n",
    "s2=s1.replace('','_')\n",
    "print(s1)\n",
    "print(s2)"
   ]
  },
  {
   "cell_type": "code",
   "execution_count": 13,
   "id": "a4215779",
   "metadata": {},
   "outputs": [
    {
     "name": "stdout",
     "output_type": "stream",
     "text": [
      "number of lowercase characters in a string :\n",
      "14\n"
     ]
    }
   ],
   "source": [
    "st=(\"Reverse the String\")\n",
    "count=0\n",
    "for i in st:\n",
    "    if(i.islower()):\n",
    "        count=count+1\n",
    "print(\"number of lowercase characters in a string :\")\n",
    "print(count)"
   ]
  },
  {
   "cell_type": "code",
   "execution_count": 3,
   "id": "94ade32e",
   "metadata": {},
   "outputs": [
    {
     "name": "stdout",
     "output_type": "stream",
     "text": [
      "Enter your string:to illustrate\n",
      "Number of vowels are:\n",
      "5\n"
     ]
    }
   ],
   "source": [
    "string=input(\"Enter your string:\")\n",
    "vowels=0\n",
    "for i in string:\n",
    "      if(i=='a' or i=='e' or i=='i' or i=='o' or i=='u' ):\n",
    "            vowels=vowels+1\n",
    "print(\"Number of vowels are:\")\n",
    "print(vowels)"
   ]
  },
  {
   "cell_type": "code",
   "execution_count": 6,
   "id": "dae51bd5",
   "metadata": {},
   "outputs": [
    {
     "name": "stdout",
     "output_type": "stream",
     "text": [
      "Enter first string:simple\n",
      "Enter second string:understandable\n",
      "The common letters are:\n",
      "s\n",
      "l\n",
      "e\n"
     ]
    }
   ],
   "source": [
    "s1=input(\"Enter first string:\")\n",
    "s2=input(\"Enter second string:\")\n",
    "a=list(set(s1)&set(s2))\n",
    "print(\"The common letters are:\")\n",
    "for i in a:\n",
    "    print(i)"
   ]
  },
  {
   "cell_type": "code",
   "execution_count": 4,
   "id": "b5d5ef0e",
   "metadata": {},
   "outputs": [
    {
     "name": "stdout",
     "output_type": "stream",
     "text": [
      "enter your string: hello\n",
      "This is not a palindrome string\n"
     ]
    }
   ],
   "source": [
    "st = input(\"enter your string: \")\n",
    "if(st == st[:: - 1]):\n",
    "    print(\"This is a Palindrome String\")\n",
    "else:\n",
    "    print(\"This is not a palindrome string\")"
   ]
  },
  {
   "cell_type": "code",
   "execution_count": null,
   "id": "234e66dd",
   "metadata": {},
   "outputs": [],
   "source": []
  },
  {
   "cell_type": "code",
   "execution_count": 6,
   "id": "3e255b9b",
   "metadata": {},
   "outputs": [
    {
     "name": "stdout",
     "output_type": "stream",
     "text": [
      "Enter first number: 4\n",
      "Enter second number: 8\n",
      "Product is:  32\n"
     ]
    }
   ],
   "source": [
    "def product(a,b):\n",
    "    if(a<b):\n",
    "        return product(b,a)\n",
    "    elif(b!=0):\n",
    "        return(a+product(a,b-1))\n",
    "    else:\n",
    "        return 0\n",
    "a=int(input(\"Enter first number: \"))\n",
    "b=int(input(\"Enter second number: \"))\n",
    "print(\"Product is: \",product(a,b))"
   ]
  },
  {
   "cell_type": "code",
   "execution_count": 7,
   "id": "428ede5f",
   "metadata": {},
   "outputs": [
    {
     "name": "stdout",
     "output_type": "stream",
     "text": [
      "Enter lower range: 2\n",
      "Enter upper range: 6\n",
      "[4]\n"
     ]
    }
   ],
   "source": [
    "l=int(input(\"Enter lower range: \"))\n",
    "u=int(input(\"Enter upper range: \"))\n",
    "a=[]\n",
    "a=[x for x in range(l,u+1) if (int(x**0.5))**2==x and sum(list(map(int,str(x))))<10]\n",
    "print(a)"
   ]
  },
  {
   "cell_type": "code",
   "execution_count": null,
   "id": "0f70cdba",
   "metadata": {},
   "outputs": [],
   "source": []
  }
 ],
 "metadata": {
  "kernelspec": {
   "display_name": "Python 3 (ipykernel)",
   "language": "python",
   "name": "python3"
  },
  "language_info": {
   "codemirror_mode": {
    "name": "ipython",
    "version": 3
   },
   "file_extension": ".py",
   "mimetype": "text/x-python",
   "name": "python",
   "nbconvert_exporter": "python",
   "pygments_lexer": "ipython3",
   "version": "3.9.13"
  }
 },
 "nbformat": 4,
 "nbformat_minor": 5
}
