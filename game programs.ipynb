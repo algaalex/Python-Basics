{
 "cells": [
  {
   "cell_type": "code",
   "execution_count": 8,
   "id": "cc14f4e9",
   "metadata": {},
   "outputs": [
    {
     "name": "stdout",
     "output_type": "stream",
     "text": [
      "enter a choice(rock,paper,scissor):paper\n",
      "user_action computer_action\n",
      "paper covers rock.you win\n"
     ]
    }
   ],
   "source": [
    "raimport random\n",
    "user_action=input(\"enter a choice(rock,paper,scissor):\")\n",
    "possible_actions=[\"rock\",\"papper\",\"scissor\"]\n",
    "computer_action=random.choice(possible_actions)\n",
    "print(\"user_action\",\"computer_action\")\n",
    "if user_action==computer_action:\n",
    "    print(\"it's a tie\")\n",
    "elif user_action==\"paper\":\n",
    "    if computer_action==\"rock\":\n",
    "        print(\"paper covers rock.you win\")\n",
    "elif user_action==\"rock\":\n",
    "    if computer_action==\"paper\":\n",
    "        print(\"paper covers rock.you lose\")\n",
    "elif user_action==\"rock\":\n",
    "    if computer_action==\"scissor\":\n",
    "        print(\"rock smashes scissor.you win\")\n",
    "elif user_action==\"scissor\":\n",
    "    if computer_action==\"rock\":\n",
    "        print(\"rock smashes scissor.you lose\")\n",
    "elif user_action==\"paper\":\n",
    "    if computer_action==\"scissor\":\n",
    "        print(\"scissor cuts paper.you lose\")\n",
    "elif user_action==\"scissor\":\n",
    "    if computer_action==\"paper\":\n",
    "        print(\"scissor cuts paper.you win\")"
   ]
  },
  {
   "cell_type": "code",
   "execution_count": 14,
   "id": "f2840598",
   "metadata": {},
   "outputs": [
    {
     "name": "stdout",
     "output_type": "stream",
     "text": [
      "1\n",
      "2\n",
      "3\n",
      "4\n",
      "5\n"
     ]
    }
   ],
   "source": [
    "i=1\n",
    "while i<6:\n",
    "    print(i)\n",
    "    i=i+1"
   ]
  },
  {
   "cell_type": "code",
   "execution_count": 3,
   "id": "06d9dfe7",
   "metadata": {},
   "outputs": [
    {
     "name": "stdout",
     "output_type": "stream",
     "text": [
      "enter any number8\n",
      "guess is high\n",
      "enter a number5\n"
     ]
    }
   ],
   "source": [
    "import random\n",
    "guess=int(input(\"enter any number\"))\n",
    "num=random.randint(1,10)\n",
    "if guess<num:\n",
    "    print(\"guess is low\")\n",
    "    guess=int(input(\"enter a number\"))\n",
    "elif guess>num:\n",
    "    print(\"guess is high\")\n",
    "    guess=int(input(\"enter a number\"))\n",
    "else:\n",
    "    print(\"you guessed it right\")"
   ]
  },
  {
   "cell_type": "code",
   "execution_count": null,
   "id": "dc4ddb6c",
   "metadata": {},
   "outputs": [],
   "source": []
  }
 ],
 "metadata": {
  "kernelspec": {
   "display_name": "Python 3 (ipykernel)",
   "language": "python",
   "name": "python3"
  },
  "language_info": {
   "codemirror_mode": {
    "name": "ipython",
    "version": 3
   },
   "file_extension": ".py",
   "mimetype": "text/x-python",
   "name": "python",
   "nbconvert_exporter": "python",
   "pygments_lexer": "ipython3",
   "version": "3.9.13"
  }
 },
 "nbformat": 4,
 "nbformat_minor": 5
}
