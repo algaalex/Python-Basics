{
 "cells": [
  {
   "cell_type": "code",
   "execution_count": 10,
   "id": "cbfa5092",
   "metadata": {},
   "outputs": [
    {
     "name": "stdout",
     "output_type": "stream",
     "text": [
      "numbers divisible b 2 or 3 are [1, 73, 45, 221]\n"
     ]
    }
   ],
   "source": [
    "a=(1,16,73,45,56,54,102,221)\n",
    "result=list(filter(lambda x: (x % 2 or 3==0),a))\n",
    "print(\"numbers divisible b 2 or 3 are\",result)"
   ]
  },
  {
   "cell_type": "code",
   "execution_count": null,
   "id": "b9e33103",
   "metadata": {},
   "outputs": [],
   "source": [
    "num=input(\"enter any number\")\n",
    "value=int(num)\n",
    "if num== str(num)[::-1]:\n",
    "    print(\"The given number is palindrome\")\n",
    "else:\n",
    "    print(\"The given number is not a palindrome\")"
   ]
  },
  {
   "cell_type": "code",
   "execution_count": null,
   "id": "6a062084",
   "metadata": {},
   "outputs": [],
   "source": []
  }
 ],
 "metadata": {
  "kernelspec": {
   "display_name": "Python 3 (ipykernel)",
   "language": "python",
   "name": "python3"
  },
  "language_info": {
   "codemirror_mode": {
    "name": "ipython",
    "version": 3
   },
   "file_extension": ".py",
   "mimetype": "text/x-python",
   "name": "python",
   "nbconvert_exporter": "python",
   "pygments_lexer": "ipython3",
   "version": "3.9.13"
  }
 },
 "nbformat": 4,
 "nbformat_minor": 5
}
