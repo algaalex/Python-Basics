{
 "cells": [
  {
   "cell_type": "code",
   "execution_count": 3,
   "id": "d6a408db",
   "metadata": {},
   "outputs": [
    {
     "name": "stdout",
     "output_type": "stream",
     "text": [
      "(1, 2, 3, 4, 5)\n",
      "(6, 7, 8, 9, 10)\n"
     ]
    }
   ],
   "source": [
    "n=(1,2,3,4,5,6,7,8,9,10)\n",
    "n1=n[:5]\n",
    "n2=n[5:]\n",
    "print(n1)\n",
    "print(n2)"
   ]
  },
  {
   "cell_type": "code",
   "execution_count": 5,
   "id": "4e9a23f7",
   "metadata": {},
   "outputs": [
    {
     "name": "stdout",
     "output_type": "stream",
     "text": [
      "(2, 4, 6, 8, 10)\n"
     ]
    }
   ],
   "source": [
    "tpl = (1,2,3,4,5,6,7,8,9,10)\n",
    "tpl1 = tuple(i for i in tpl if i%2 == 0)\n",
    "print(tpl1)"
   ]
  },
  {
   "cell_type": "code",
   "execution_count": 9,
   "id": "e5cff769",
   "metadata": {},
   "outputs": [
    {
     "name": "stdout",
     "output_type": "stream",
     "text": [
      "enter your string python is simple\n",
      "No\n"
     ]
    }
   ],
   "source": [
    "x=str(input(\"enter your string\"))\n",
    "if x == 'yes':\n",
    "    print('Yes')\n",
    "else:\n",
    "    print('No')"
   ]
  },
  {
   "cell_type": "code",
   "execution_count": 4,
   "id": "a2f8b8f7",
   "metadata": {},
   "outputs": [
    {
     "name": "stdout",
     "output_type": "stream",
     "text": [
      "[2, 4, 6, 8, 10]\n"
     ]
    }
   ],
   "source": [
    "li=[1,2,3,4,5,6,7,8,9,10]\n",
    "en=list(filter(lambda x: x%2==0,li))\n",
    "print(en)"
   ]
  },
  {
   "cell_type": "code",
   "execution_count": 1,
   "id": "9cf34287",
   "metadata": {},
   "outputs": [
    {
     "name": "stdout",
     "output_type": "stream",
     "text": [
      "[1, 4, 9, 16, 25, 36, 49, 64, 81, 100]\n"
     ]
    }
   ],
   "source": [
    "a= [1,2,3,4,5,6,7,8,9,10]\n",
    "sqN= list(map(lambda x: x**2,a))\n",
    "print(sqN)"
   ]
  },
  {
   "cell_type": "code",
   "execution_count": 4,
   "id": "d846d625",
   "metadata": {},
   "outputs": [
    {
     "name": "stdout",
     "output_type": "stream",
     "text": [
      "[4, 16, 36, 64, 100]\n"
     ]
    }
   ],
   "source": [
    "def even(x):\n",
    "    return x%2==0\n",
    "def squer(x):\n",
    "    return x*x\n",
    "li = [1,2,3,4,5,6,7,8,9,10]\n",
    "li = map(squer,filter(even,li))\n",
    "print(list(li))"
   ]
  },
  {
   "cell_type": "code",
   "execution_count": 1,
   "id": "718be591",
   "metadata": {},
   "outputs": [
    {
     "name": "stdout",
     "output_type": "stream",
     "text": [
      "[2, 4, 6, 8, 10, 12, 14, 16, 18, 20]\n"
     ]
    }
   ],
   "source": [
    "en=list(filter(lambda x: x%2==0,range(1,21)))\n",
    "print(en)"
   ]
  },
  {
   "cell_type": "code",
   "execution_count": 2,
   "id": "983e48db",
   "metadata": {},
   "outputs": [
    {
     "name": "stdout",
     "output_type": "stream",
     "text": [
      "[1, 4, 9, 16, 25, 36, 49, 64, 81, 100, 121, 144, 169, 196, 225, 256, 289, 324, 361, 400]\n"
     ]
    }
   ],
   "source": [
    "sqn=list(map(lambda x: x**2,range(1,21)))\n",
    "print(sqn)"
   ]
  },
  {
   "cell_type": "code",
   "execution_count": null,
   "id": "52f6d6e2",
   "metadata": {},
   "outputs": [],
   "source": []
  }
 ],
 "metadata": {
  "kernelspec": {
   "display_name": "Python 3 (ipykernel)",
   "language": "python",
   "name": "python3"
  },
  "language_info": {
   "codemirror_mode": {
    "name": "ipython",
    "version": 3
   },
   "file_extension": ".py",
   "mimetype": "text/x-python",
   "name": "python",
   "nbconvert_exporter": "python",
   "pygments_lexer": "ipython3",
   "version": "3.9.13"
  }
 },
 "nbformat": 4,
 "nbformat_minor": 5
}
