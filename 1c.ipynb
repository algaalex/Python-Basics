{
 "cells": [
  {
   "cell_type": "code",
   "execution_count": 1,
   "id": "cbfa5092",
   "metadata": {},
   "outputs": [
    {
     "name": "stdout",
     "output_type": "stream",
     "text": [
      "numbers divisible b 2 or 3 are [1, 73, 45, 221]\n"
     ]
    }
   ],
   "source": [
    "a=(1,16,73,45,56,54,102,221)\n",
    "result=list(filter(lambda x: (x % 2 or 3==0),a))\n",
    "print(\"numbers divisible b 2 or 3 are\",result)"
   ]
  },
  {
   "cell_type": "code",
   "execution_count": null,
   "id": "b9e33103",
   "metadata": {},
   "outputs": [],
   "source": [
    "num=input(\"enter any number\")\n",
    "value=int(num)\n",
    "if num== str(num)[::-1]:\n",
    "    print(\"The given number is palindrome\")\n",
    "else:\n",
    "    print(\"The given number is not a palindrome\")"
   ]
  },
  {
   "cell_type": "code",
   "execution_count": 1,
   "id": "cedcd748",
   "metadata": {},
   "outputs": [
    {
     "name": "stdout",
     "output_type": "stream",
     "text": [
      "Enter lower range limit...3\n",
      "Enter upper range limit...8\n",
      "Enter the number that should be divided by...2\n",
      "4\n",
      "6\n",
      "8\n"
     ]
    }
   ],
   "source": [
    "lower_num = int(input(\"Enter lower range limit...\"))\n",
    "upper_num = int(input(\"Enter upper range limit...\"))\n",
    "div_num = int(input(\"Enter the number that should be divided by...\"))\n",
    "for i in range(lower_num,upper_num+1):\n",
    "    if(i%div_num==0):\n",
    "        print(i)  "
   ]
  },
  {
   "cell_type": "code",
   "execution_count": 2,
   "id": "ab0bfbc3",
   "metadata": {},
   "outputs": [
    {
     "name": "stdout",
     "output_type": "stream",
     "text": [
      "enter a number80\n",
      "8\n"
     ]
    }
   ],
   "source": [
    "num=input(\"enter a number\")\n",
    "sum=0\n",
    "for i in num:\n",
    "    sum=sum+int(i)\n",
    "print(sum)    "
   ]
  },
  {
   "cell_type": "code",
   "execution_count": 3,
   "id": "93537bd3",
   "metadata": {},
   "outputs": [
    {
     "name": "stdout",
     "output_type": "stream",
     "text": [
      "enter a number30\n",
      "The divisors of the numbers are:\n",
      "1\n",
      "2\n",
      "3\n",
      "5\n",
      "6\n",
      "10\n",
      "15\n",
      "30\n"
     ]
    }
   ],
   "source": [
    "num=int(input(\"enter a number\"))\n",
    "print(\"The divisors of the numbers are:\")\n",
    "for i in range(1,num+1):\n",
    "    if (num%i==0):\n",
    "        print(i)"
   ]
  },
  {
   "cell_type": "code",
   "execution_count": 4,
   "id": "1ce8a673",
   "metadata": {},
   "outputs": [
    {
     "name": "stdout",
     "output_type": "stream",
     "text": [
      "enter the number to print the table:8\n",
      "8 x 1 = 8\n",
      "8 x 2 = 16\n",
      "8 x 3 = 24\n",
      "8 x 4 = 32\n",
      "8 x 5 = 40\n",
      "8 x 6 = 48\n",
      "8 x 7 = 56\n",
      "8 x 8 = 64\n",
      "8 x 9 = 72\n",
      "8 x 10 = 80\n"
     ]
    }
   ],
   "source": [
    "num=int(input(\"enter the number to print the table:\"))\n",
    "for i in range(1,11):\n",
    "    print(num,\"x\",i,\"=\",num*i)"
   ]
  },
  {
   "cell_type": "code",
   "execution_count": 6,
   "id": "34614479",
   "metadata": {},
   "outputs": [
    {
     "name": "stdout",
     "output_type": "stream",
     "text": [
      "Enter year to be checked:2001\n",
      "The year isn't a leap year!\n"
     ]
    }
   ],
   "source": [
    "y=int(input(\"Enter year to be checked:\"))\n",
    "if(y%4==0 and y%100!=0 or y%400==0):\n",
    "    print(\"The year is a leap year!\")\n",
    "else:\n",
    "    print(\"The year isn't a leap year!\")"
   ]
  },
  {
   "cell_type": "code",
   "execution_count": 7,
   "id": "338e595c",
   "metadata": {},
   "outputs": [
    {
     "name": "stdout",
     "output_type": "stream",
     "text": [
      "Enter the height in centimeters:60\n",
      "The length in inches 23.64\n",
      "The length in feet 1.97\n"
     ]
    }
   ],
   "source": [
    "cm=int(input(\"Enter the height in centimeters:\"))\n",
    "inches=0.394*cm\n",
    "feet=0.0328*cm\n",
    "print(\"The length in inches\",round(inches,2))\n",
    "print(\"The length in feet\",round(feet,2))"
   ]
  },
  {
   "cell_type": "code",
   "execution_count": null,
   "id": "baee03f1",
   "metadata": {},
   "outputs": [],
   "source": []
  },
  {
   "cell_type": "code",
   "execution_count": 1,
   "id": "0ff593c2",
   "metadata": {},
   "outputs": [
    {
     "name": "stdout",
     "output_type": "stream",
     "text": [
      "Enter an integer:60\n",
      "Smallest divisor is: 2\n"
     ]
    }
   ],
   "source": [
    "n=int(input(\"Enter an integer:\"))\n",
    "a=[]\n",
    "for i in range(2,n+1):\n",
    "    if(n%i==0):\n",
    "        a.append(i)\n",
    "a.sort()\n",
    "print(\"Smallest divisor is:\",a[0])"
   ]
  },
  {
   "cell_type": "code",
   "execution_count": null,
   "id": "d2af9227",
   "metadata": {},
   "outputs": [],
   "source": []
  }
 ],
 "metadata": {
  "kernelspec": {
   "display_name": "Python 3 (ipykernel)",
   "language": "python",
   "name": "python3"
  },
  "language_info": {
   "codemirror_mode": {
    "name": "ipython",
    "version": 3
   },
   "file_extension": ".py",
   "mimetype": "text/x-python",
   "name": "python",
   "nbconvert_exporter": "python",
   "pygments_lexer": "ipython3",
   "version": "3.9.13"
  }
 },
 "nbformat": 4,
 "nbformat_minor": 5
}
